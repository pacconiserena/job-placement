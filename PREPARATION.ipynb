{
 "cells": [
  {
   "cell_type": "code",
   "execution_count": 62,
   "id": "e43d9abe",
   "metadata": {
    "scrolled": true
   },
   "outputs": [
    {
     "name": "stdout",
     "output_type": "stream",
     "text": [
      "Requirement already satisfied: numpy in c:\\users\\lenovo\\anaconda3\\lib\\site-packages (1.20.1)\n",
      "Requirement already satisfied: sklearn in c:\\users\\lenovo\\anaconda3\\lib\\site-packages (0.0)\n",
      "Requirement already satisfied: scikit-learn in c:\\users\\lenovo\\anaconda3\\lib\\site-packages (from sklearn) (0.24.1)\n",
      "Requirement already satisfied: joblib>=0.11 in c:\\users\\lenovo\\anaconda3\\lib\\site-packages (from scikit-learn->sklearn) (1.0.1)\n",
      "Requirement already satisfied: scipy>=0.19.1 in c:\\users\\lenovo\\anaconda3\\lib\\site-packages (from scikit-learn->sklearn) (1.6.2)\n",
      "Requirement already satisfied: threadpoolctl>=2.0.0 in c:\\users\\lenovo\\anaconda3\\lib\\site-packages (from scikit-learn->sklearn) (2.1.0)\n",
      "Requirement already satisfied: numpy>=1.13.3 in c:\\users\\lenovo\\anaconda3\\lib\\site-packages (from scikit-learn->sklearn) (1.20.1)\n",
      "Requirement already satisfied: pandas in c:\\users\\lenovo\\anaconda3\\lib\\site-packages (1.2.4)\n",
      "Requirement already satisfied: numpy>=1.16.5 in c:\\users\\lenovo\\anaconda3\\lib\\site-packages (from pandas) (1.20.1)\n",
      "Requirement already satisfied: python-dateutil>=2.7.3 in c:\\users\\lenovo\\anaconda3\\lib\\site-packages (from pandas) (2.8.1)\n",
      "Requirement already satisfied: pytz>=2017.3 in c:\\users\\lenovo\\anaconda3\\lib\\site-packages (from pandas) (2021.1)\n",
      "Requirement already satisfied: six>=1.5 in c:\\users\\lenovo\\anaconda3\\lib\\site-packages (from python-dateutil>=2.7.3->pandas) (1.15.0)\n"
     ]
    }
   ],
   "source": [
    "!pip install numpy\n",
    "!pip install sklearn\n",
    "!pip install pandas"
   ]
  },
  {
   "cell_type": "code",
   "execution_count": 63,
   "id": "74d1f4c2",
   "metadata": {},
   "outputs": [],
   "source": [
    "import pandas \n",
    "from sklearn.model_selection import train_test_split"
   ]
  },
  {
   "cell_type": "markdown",
   "id": "12c81dab",
   "metadata": {},
   "source": [
    "Leggo il file csv e lo inserisco in placement_data_full_class"
   ]
  },
  {
   "cell_type": "code",
   "execution_count": 64,
   "id": "43de31a5",
   "metadata": {},
   "outputs": [],
   "source": [
    "placement_data_full_class = pandas.read_csv(\"./Placement_Data_Full_Class.train.csv\")"
   ]
  },
  {
   "cell_type": "markdown",
   "id": "58cd02f9",
   "metadata": {},
   "source": [
    "Per studiare le dipendenze elimino la colonna status e creo i due csv richiesti"
   ]
  },
  {
   "cell_type": "code",
   "execution_count": 65,
   "id": "1f097082",
   "metadata": {
    "scrolled": true
   },
   "outputs": [],
   "source": [
    "copy_placement = placement_data_full_class['status'].copy()\n",
    "drop_placement = placement_data_full_class.drop(\"status\", axis=1).copy()\n",
    "\n",
    "#utilizzo la funzione train_test_split\n",
    "copy_placementTrain, copy_placementTest, drop_placementTrain, drop_placementTest = train_test_split(drop_placement, copy_placement, random_state=0)\n",
    "\n",
    "file_train = copy_placementTrain.join(drop_placementTrain)\n",
    "\n",
    "file_train.to_csv(\"train.csv\",index=False)\n",
    "\n",
    "file_test =  copy_placementTest.join(drop_placementTest)\n",
    "\n",
    "file_test.to_csv(\"test.csv\",index=False)"
   ]
  }
 ],
 "metadata": {
  "kernelspec": {
   "display_name": "Python 3",
   "language": "python",
   "name": "python3"
  },
  "language_info": {
   "codemirror_mode": {
    "name": "ipython",
    "version": 3
   },
   "file_extension": ".py",
   "mimetype": "text/x-python",
   "name": "python",
   "nbconvert_exporter": "python",
   "pygments_lexer": "ipython3",
   "version": "3.8.8"
  }
 },
 "nbformat": 4,
 "nbformat_minor": 5
}
